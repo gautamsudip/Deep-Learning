{
 "cells": [
  {
   "cell_type": "code",
   "execution_count": 5,
   "id": "2a7f4ae2-02ae-4fff-9f3a-31bf6cab74c5",
   "metadata": {},
   "outputs": [],
   "source": [
    "from tensorflow.keras.datasets import imdb\n",
    "from tensorflow.keras.preprocessing.text import Tokenizer\n",
    "from tensorflow.keras.utils import pad_sequences\n",
    "from tensorflow.keras import Sequential"
   ]
  },
  {
   "cell_type": "code",
   "execution_count": 6,
   "id": "c02460dd-fda3-404a-ae5f-a9618252cc4e",
   "metadata": {},
   "outputs": [],
   "source": [
    "docs = ['go nepal',\n",
    "\t\t'nepal nepal',\n",
    "\t\t'hip hip hurray',\n",
    "\t\t'common nepal will win',\n",
    "\t\t'nepal nepal',\n",
    "\t\t'suiiii',\n",
    "\t\t'paras khadka',\n",
    "\t\t'sompal ',\n",
    "\t\t'nepal win nepal',\n",
    "\t\t'you can do that']"
   ]
  },
  {
   "cell_type": "code",
   "execution_count": 19,
   "id": "942570db-cf18-41c5-9b85-fd690fd7e822",
   "metadata": {},
   "outputs": [],
   "source": [
    "from tensorflow.keras.preprocessing.text import Tokenizer\n",
    "tokenizer = Tokenizer()"
   ]
  },
  {
   "cell_type": "code",
   "execution_count": 20,
   "id": "59d7a3cf-13fe-4fd8-8956-06556acec358",
   "metadata": {},
   "outputs": [],
   "source": [
    "tokenizer.fit_on_texts(docs)"
   ]
  },
  {
   "cell_type": "code",
   "execution_count": 21,
   "id": "1f52cc5d-be3c-4c0c-bb07-0d517e745a3c",
   "metadata": {},
   "outputs": [
    {
     "data": {
      "text/plain": [
       "15"
      ]
     },
     "execution_count": 21,
     "metadata": {},
     "output_type": "execute_result"
    }
   ],
   "source": [
    "len(tokenizer.word_index)"
   ]
  },
  {
   "cell_type": "code",
   "execution_count": 23,
   "id": "a6beb000-958c-4d01-851f-262274c68781",
   "metadata": {},
   "outputs": [
    {
     "data": {
      "text/plain": [
       "array([[ 4,  1,  0,  0],\n",
       "       [ 1,  1,  0,  0],\n",
       "       [ 2,  2,  5,  0],\n",
       "       [ 6,  1,  7,  3],\n",
       "       [ 1,  1,  0,  0],\n",
       "       [ 8,  0,  0,  0],\n",
       "       [ 9, 10,  0,  0],\n",
       "       [11,  0,  0,  0],\n",
       "       [ 1,  3,  1,  0],\n",
       "       [12, 13, 14, 15]])"
      ]
     },
     "execution_count": 23,
     "metadata": {},
     "output_type": "execute_result"
    }
   ],
   "source": [
    "from keras.utils import pad_sequences\n",
    "sequences = pad_sequences(sequences,padding='post')\n",
    "sequences"
   ]
  },
  {
   "cell_type": "code",
   "execution_count": 26,
   "id": "6d681c93-bf60-4c8c-8442-371df0462e75",
   "metadata": {},
   "outputs": [
    {
     "data": {
      "text/plain": [
       "array([[ 4,  1,  0,  0],\n",
       "       [ 1,  1,  0,  0],\n",
       "       [ 2,  2,  5,  0],\n",
       "       [ 6,  1,  7,  3],\n",
       "       [ 1,  1,  0,  0],\n",
       "       [ 8,  0,  0,  0],\n",
       "       [ 9, 10,  0,  0],\n",
       "       [11,  0,  0,  0],\n",
       "       [ 1,  3,  1,  0],\n",
       "       [12, 13, 14, 15]])"
      ]
     },
     "execution_count": 26,
     "metadata": {},
     "output_type": "execute_result"
    }
   ],
   "source": [
    "from keras.utils import pad_sequences\n",
    "sequences = pad_sequences(sequences,padding='post')\n",
    "sequences"
   ]
  },
  {
   "cell_type": "code",
   "execution_count": null,
   "id": "eb572b50-0f05-4b40-8be0-52b93490fcb8",
   "metadata": {},
   "outputs": [],
   "source": []
  },
  {
   "cell_type": "code",
   "execution_count": null,
   "id": "33fd7f93-87b5-452d-873c-e51f8b5cc51b",
   "metadata": {},
   "outputs": [],
   "source": []
  },
  {
   "cell_type": "code",
   "execution_count": null,
   "id": "a0288d41-4afa-4abd-9b9b-ebaa268616b1",
   "metadata": {},
   "outputs": [],
   "source": [
    "model = Sequential()\n",
    "model.add(Embedding(input_dim=88586, output_dim=2, input_length=50))\n",
    "model.add(SimpleRNN(32, return_sequences=False))\n",
    "model.add(Dense(1,activation='sigmoid'))\n",
    "model.summary()"
   ]
  }
 ],
 "metadata": {
  "kernelspec": {
   "display_name": "Python 3 (ipykernel)",
   "language": "python",
   "name": "python3"
  },
  "language_info": {
   "codemirror_mode": {
    "name": "ipython",
    "version": 3
   },
   "file_extension": ".py",
   "mimetype": "text/x-python",
   "name": "python",
   "nbconvert_exporter": "python",
   "pygments_lexer": "ipython3",
   "version": "3.12.1"
  }
 },
 "nbformat": 4,
 "nbformat_minor": 5
}
